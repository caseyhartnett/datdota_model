{
 "cells": [
  {
   "cell_type": "code",
   "execution_count": 134,
   "metadata": {
    "collapsed": true
   },
   "outputs": [],
   "source": [
    "import pandas as pd\n",
    "import os\n",
    "import glob\n",
    "\n",
    "'''Convert Between Dire and Radiant'''\n",
    "def opposite_team(team):\n",
    "    if team == 'Dire':\n",
    "        response = 'Radiant'\n",
    "    else:\n",
    "        response = 'Dire'\n",
    "    return response\n",
    "\n",
    "all_matches = glob.glob(os.path.join('data/matches_upload/', \"*.csv\")) \n",
    "# In one line concatenate and drop duplicates of all matches files\n",
    "match_uploads = pd.concat(pd.read_csv(f, index_col=False) for f in all_matches).drop_duplicates()\n",
    "match_uploads.rename(columns={\n",
    "    '﻿\"Match ID\"': 'MatchID',\n",
    "    'Start Date/Time': 'StartTime',\n",
    "    'Match Length': 'MatchLength',\n",
    "    'Duration (secs)': 'Duration',\n",
    "    'Kills Score': 'KillScore',\n",
    "    'Unnamed: 7': 'KillScore2',\n",
    "    'Radiant Team': 'Radiant',\n",
    "    'Radiant Players': 'RadiantPlayers',\n",
    "    'Dire Team': 'Dire',\n",
    "    'Dire Players': 'DirePlayers'}, inplace=True)\n",
    "match_uploads['RadiantKills'] = match_uploads.KillScore.str.split('-').apply(lambda x:x[0])\n",
    "match_uploads['DireKills'] = match_uploads.KillScore.str.split('-').apply(lambda x:x[1])\n",
    "match_uploads.drop(['KillScore', 'KillScore2'], 1, inplace=True)\n",
    "match_uploads['WinningTeam'] = match_uploads.apply(lambda x: x[x.Winner], axis=1)\n",
    "match_uploads['LosingTeam'] = match_uploads.apply(lambda x: x[opposite_team(x.Winner)], axis=1)\n",
    "match_uploads.to_csv('data/matches.csv', index=False)\n",
    "\n",
    "all_teams = glob.glob(os.path.join('data/team_upload/', \"*.csv\"))\n",
    "team_uploads = pd.DataFrame()\n",
    "for files in all_teams:\n",
    "    data = pd.read_csv(files) \n",
    "    # add upload date from filename by splitting around parenthesis\n",
    "    data['UploadDate'] = files.split('(', 1)[1].split(')', 1)[0]\n",
    "    team_uploads = pd.concat([team_uploads, data])  # Concatenate the DataFrames \n",
    "team_uploads.rename(columns={\n",
    "    'Unnamed: 1': 'TeamName',\n",
    "    'Total Count': 'TotalCount',\n",
    "    'As Radiant': 'RadiantGames',\n",
    "    'As Dire': 'DireGames',\n",
    "    'Kills': 'AvgKills',\n",
    "    'Deaths': 'AvgDeaths',\n",
    "    'Assists': 'AvgAssists',\n",
    "    'GPM': 'AvgGPM',\n",
    "    'XPM': 'AvgXPM',\n",
    "    'Last Hits': 'AvgLastHits',\n",
    "    'Denies': 'AvgDenies',\n",
    "    'Overall': 'AvgTime',\n",
    "    'In Wins': 'AvgWinTime',\n",
    "    'In Losses': 'AvgLossTime'}, inplace=True)\n",
    "team_uploads['WinRate'] = team_uploads.Winrate.str.split('%').apply(lambda x: x[0])\n",
    "team_uploads['WinRate'] = pd.to_numeric(team_uploads.WinRate) / 100\n",
    "team_uploads.drop(['Winrate'], 1, inplace=True)\n",
    "team_uploads.to_csv('data/teams.csv', index=False)"
   ]
  },
  {
   "cell_type": "code",
   "execution_count": null,
   "metadata": {},
   "outputs": [],
   "source": [
    ""
   ]
  }
 ],
 "metadata": {
  "kernelspec": {
   "display_name": "Python 3",
   "language": "python",
   "name": "python3"
  },
  "language_info": {
   "codemirror_mode": {
    "name": "ipython",
    "version": 3.0
   },
   "file_extension": ".py",
   "mimetype": "text/x-python",
   "name": "python",
   "nbconvert_exporter": "python",
   "pygments_lexer": "ipython3",
   "version": "3.5.1"
  }
 },
 "nbformat": 4,
 "nbformat_minor": 0
}