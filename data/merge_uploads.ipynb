{
 "cells": [
  {
   "cell_type": "code",
   "execution_count": 41,
   "metadata": {
    "collapsed": true
   },
   "outputs": [],
   "source": [
    "import pandas as pd\n",
    "import os\n",
    "import glob\n",
    "\n",
    "all_matches = glob.glob(os.path.join('data/matches_upload/', \"*.csv\")) \n",
    "# In one line concatenate and drop duplicates of all matches files\n",
    "match_uploads = pd.concat(pd.read_csv(f) for f in all_matches).drop_duplicates()\n",
    "match_uploads.to_csv('data/matches.csv')\n",
    "\n",
    "all_teams = glob.glob(os.path.join('data/team_upload/', \"*.csv\"))\n",
    "team_uploads = pd.DataFrame()\n",
    "for files in all_teams:\n",
    "    data = pd.read_csv(files) \n",
    "    # add upload date from filename by splitting around parenthesis\n",
    "    data['upload_date'] = files.split('(', 1)[1].split(')', 1)[0]\n",
    "    team_uploads = pd.concat([team_uploads, data])  # Concatenate the DataFrames \n",
    "team_uploads.to_csv('data/teams.csv')"
   ]
  }
 ],
 "metadata": {
  "kernelspec": {
   "display_name": "Python 3",
   "language": "python",
   "name": "python3"
  },
  "language_info": {
   "codemirror_mode": {
    "name": "ipython",
    "version": 3.0
   },
   "file_extension": ".py",
   "mimetype": "text/x-python",
   "name": "python",
   "nbconvert_exporter": "python",
   "pygments_lexer": "ipython3",
   "version": "3.5.1"
  }
 },
 "nbformat": 4,
 "nbformat_minor": 0
}